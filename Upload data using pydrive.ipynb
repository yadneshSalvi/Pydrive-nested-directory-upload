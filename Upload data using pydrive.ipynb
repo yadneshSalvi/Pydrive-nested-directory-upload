{
 "cells": [
  {
   "cell_type": "markdown",
   "metadata": {},
   "source": [
    "# Prerequisites"
   ]
  },
  {
   "cell_type": "markdown",
   "metadata": {},
   "source": [
    "1. Create a project on Google Developers console\n",
    "2. Enable Google drive api for the project\n",
    "3. Setup credentials and OAuth, download the credentials and save them as client_secrets.json in working directory. This <a href='https://codelabs.developers.google.com/codelabs/gsuite-apis-intro/#5'>guide</a> can be useful for setting up credentials and OAuth. And this <a href='https://pythonhosted.org/PyDrive/quickstart.html#authentication'>guide</a> for introduction to pydrive\n"
   ]
  },
  {
   "cell_type": "code",
   "execution_count": 6,
   "metadata": {},
   "outputs": [],
   "source": [
    "import os\n",
    "import shutil\n",
    "import random\n",
    "import glob\n",
    "import re\n",
    "from zipfile import ZipFile"
   ]
  },
  {
   "cell_type": "markdown",
   "metadata": {},
   "source": [
    "# Uploading the files"
   ]
  },
  {
   "cell_type": "code",
   "execution_count": 15,
   "metadata": {},
   "outputs": [],
   "source": [
    "from pydrive.auth import GoogleAuth\n",
    "#os.chdir('/path/to/working/directory')\n",
    "gauth = GoogleAuth()\n",
    "gauth.LocalWebserverAuth() # Creates local webserver and auto handles authentication."
   ]
  },
  {
   "cell_type": "code",
   "execution_count": 2,
   "metadata": {},
   "outputs": [],
   "source": [
    "from pydrive.drive import GoogleDrive\n",
    "\n",
    "drive = GoogleDrive(gauth)"
   ]
  },
  {
   "cell_type": "markdown",
   "metadata": {},
   "source": [
    "## Listing directories inside a shared drive or inside a folder"
   ]
  },
  {
   "cell_type": "code",
   "execution_count": 17,
   "metadata": {},
   "outputs": [],
   "source": [
    "team_drive_id = \"<team_drive_id>\"#this id is in the url after the last slash\n",
    "\n",
    "query = \"'\"+str(team_drive_id)+\"' in parents and trashed=False\"\n",
    "#you can put folder_id in query as well\n",
    "\n",
    "file_list = drive.ListFile({'q':query,\n",
    "                            'corpora':'teamDrive',\n",
    "                            'teamDriveId':team_drive_id,\n",
    "                            'includeTeamDriveItems': True, \n",
    "                            'supportsTeamDrives' : True,\n",
    "                            }).GetList()\n",
    "for f in file_list:\n",
    "    print(f['title'], f['id'])"
   ]
  },
  {
   "cell_type": "markdown",
   "metadata": {},
   "source": [
    "## Creating a test file inside a folder on the shared drive\n",
    "This worked perfectly in the afternoon but is giving shared drive file llimit reached now"
   ]
  },
  {
   "cell_type": "code",
   "execution_count": 19,
   "metadata": {
    "scrolled": true
   },
   "outputs": [],
   "source": [
    "team_drive_id = \"<team_drive_id>\"\n",
    "MCI_NC_folder_id = \"<folder_id>\"\n",
    "\n",
    "f = drive.CreateFile({\n",
    "    'title': 'test_api.txt',\n",
    "    'parents': [{\n",
    "        'kind': 'drive#fileLink',\n",
    "        'teamDriveId': team_drive_id,\n",
    "        'id': MCI_NC_folder_id\n",
    "    }]\n",
    "})\n",
    "f.SetContentString('Testing the google drive api upload.')\n",
    "\n",
    "f.Upload(param={'supportsTeamDrives': True})"
   ]
  },
  {
   "cell_type": "markdown",
   "metadata": {},
   "source": [
    "## Navigating a directory structure on own system"
   ]
  },
  {
   "cell_type": "code",
   "execution_count": 7,
   "metadata": {},
   "outputs": [
    {
     "name": "stdout",
     "output_type": "stream",
     "text": [
      "Entering directory 002_S_4746/Resting_State_fMRI\n",
      "Entering directory 002_S_4746/Resting_State_fMRI/2013-06-03_15_00_48.0\n",
      "Entering directory 002_S_4746/Resting_State_fMRI/2013-06-03_15_00_48.0/S191322\n",
      "Entering directory 002_S_4746/Resting_State_fMRI/2012-12-11_15_21_53.0\n",
      "Entering directory 002_S_4746/Resting_State_fMRI/2012-12-11_15_21_53.0/S178221\n",
      "Entering directory 002_S_4746/Resting_State_fMRI/2012-09-11_13_44_50.0\n",
      "Entering directory 002_S_4746/Resting_State_fMRI/2012-09-11_13_44_50.0/S167243\n",
      "Entering directory 002_S_4746/Resting_State_fMRI/2012-05-29_16_35_01.0\n",
      "Entering directory 002_S_4746/Resting_State_fMRI/2012-05-29_16_35_01.0/S151916\n",
      "Entering directory 002_S_4746/MPRAGE\n",
      "Entering directory 002_S_4746/MPRAGE/2013-06-03_15_00_48.0\n",
      "Entering directory 002_S_4746/MPRAGE/2013-06-03_15_00_48.0/S191323\n",
      "Entering directory 002_S_4746/MPRAGE/2012-05-29_16_37_42.0\n",
      "Entering directory 002_S_4746/MPRAGE/2012-05-29_16_37_42.0/S151914\n",
      "Entering directory 002_S_4746/MPRAGE/2012-12-11_15_29_16.0\n",
      "Entering directory 002_S_4746/MPRAGE/2012-12-11_15_29_16.0/S178220\n",
      "Entering directory 002_S_4746/MPRAGE/2012-09-11_13_47_35.0\n",
      "Entering directory 002_S_4746/MPRAGE/2012-09-11_13_47_35.0/S167239\n",
      "27578\n"
     ]
    }
   ],
   "source": [
    "num_files = 0\n",
    "\n",
    "def list_all_files(path):\n",
    "    global num_files\n",
    "    num_files+=1\n",
    "    \n",
    "    if os.path.isfile(path):\n",
    "        #print(path)\n",
    "        pass\n",
    "    elif os.path.isdir(path):\n",
    "        dir_name = re.search('ADNI/(.+?)$',path).group(1)\n",
    "        print(\"Entering directory {}\".format(dir_name))\n",
    "        os.chdir(path)\n",
    "        all_p = os.listdir('.')\n",
    "        #print(all_p)\n",
    "        for p in all_p:\n",
    "            list_all_files(os.path.join(path,p))\n",
    "    \n",
    "    pass\n",
    "\n",
    "\n",
    "src_directory = '/path/to/subject/folder'\n",
    "\n",
    "all_paths = glob.glob(os.path.join(src_directory,'*'))\n",
    "\n",
    "for path in all_paths:\n",
    "    list_all_files(path)\n",
    "print(num_files)"
   ]
  },
  {
   "cell_type": "markdown",
   "metadata": {},
   "source": [
    "## Uploading nested directory structure on shared drive"
   ]
  },
  {
   "cell_type": "code",
   "execution_count": 8,
   "metadata": {},
   "outputs": [],
   "source": [
    "def create_folder(drive, folder_name, parent_folder_id, team_drive_id):\n",
    "    \n",
    "    folder_metadata = {\n",
    "        'title': folder_name,\n",
    "        'mimeType': 'application/vnd.google-apps.folder',\n",
    "        'parents': [{\n",
    "            'kind': 'drive#fileLink',\n",
    "            'teamDriveId': team_drive_id,\n",
    "            'id': parent_folder_id\n",
    "        }]\n",
    "    }\n",
    "\n",
    "    folder = drive.CreateFile(folder_metadata)\n",
    "    folder.Upload(param={'supportsTeamDrives': True})\n",
    "\n",
    "    # Return folder informations\n",
    "    print('Created folder title: {}, id: {}'.format(folder['title'], folder['id']))\n",
    "    return (folder['id'])\n",
    "\n",
    "\n",
    "def upload_file(drive, file_path, destination_dir_id, team_drive_id):\n",
    "    title = file_path.split('/')[-1]\n",
    "    f = drive.CreateFile({\n",
    "        'title':title,\n",
    "        \"parents\": [{\n",
    "            \"kind\": \"drive#fileLink\", \n",
    "            'teamDriveId': team_drive_id, \n",
    "            \"id\": destination_dir_id\n",
    "        }]}\n",
    "    )\n",
    "    f.SetContentFile(file_path)\n",
    "    f.Upload(param={'supportsTeamDrives': True})\n",
    "    pass"
   ]
  },
  {
   "cell_type": "code",
   "execution_count": 9,
   "metadata": {},
   "outputs": [],
   "source": [
    "def upload_directory(drive, src_dir_path, destination_dir_id, team_drive_id):\n",
    "    \n",
    "    folder_name = src_dir_path.split('/')[-1]\n",
    "    new_folder_id = create_folder(drive, folder_name, destination_dir_id, team_drive_id)\n",
    "    os.chdir(src_dir_path)\n",
    "    all_paths = os.listdir('.')\n",
    "    \n",
    "    for p in all_paths:\n",
    "        full_path = os.path.join(src_dir_path,p)\n",
    "        if os.path.isfile(full_path):\n",
    "            upload_file(drive, full_path, new_folder_id, team_drive_id)\n",
    "        elif os.path.isdir(full_path):\n",
    "            upload_directory(drive, full_path, new_folder_id, team_drive_id)\n",
    "        else:\n",
    "            print(\"Path {} is neither diretory nor fle\".format(p))\n",
    "            \n",
    "    pass"
   ]
  },
  {
   "cell_type": "markdown",
   "metadata": {},
   "source": [
    "# The drive id and folder id are the last part of the url\n",
    "I was not able to make sure whether this part worked correctly since I was getting file limit reached from the first trail itself."
   ]
  },
  {
   "cell_type": "code",
   "execution_count": 22,
   "metadata": {
    "scrolled": true
   },
   "outputs": [],
   "source": [
    "team_drive_id = \"<team_drive_id>\" #last part of url for the shared drive\n",
    "MCI_NC_folder_id = \"<folder_id>\"  #last part of url for the folder\n",
    "\n",
    "src_dir_path = \"/path/to/ADNI/directory/or/test/directory\"\n",
    "\n",
    "upload_directory(drive, src_dir_path, MCI_NC_folder_id, team_drive_id)"
   ]
  },
  {
   "cell_type": "markdown",
   "metadata": {},
   "source": [
    "## Uploading nested directory structure on own drive\n",
    "This works as expected but is slow"
   ]
  },
  {
   "cell_type": "code",
   "execution_count": 12,
   "metadata": {},
   "outputs": [],
   "source": [
    "def create_folder(drive, folder_name, parent_folder_id):\n",
    "    \n",
    "    folder_metadata = {\n",
    "        'title': folder_name,\n",
    "        'mimeType': 'application/vnd.google-apps.folder',\n",
    "        'parents': [{\n",
    "            'kind': 'drive#fileLink',\n",
    "            #'teamDriveId': team_drive_id,\n",
    "            'id': parent_folder_id\n",
    "        }]\n",
    "    }\n",
    "\n",
    "    folder = drive.CreateFile(folder_metadata)\n",
    "    #folder.Upload(param={'supportsTeamDrives': True})\n",
    "    folder.Upload()\n",
    "    \n",
    "    # Return folder informations\n",
    "    print('Created folder title: {}, id: {}'.format(folder['title'], folder['id']))\n",
    "    return (folder['id'])\n",
    "\n",
    "\n",
    "def upload_file(drive, file_path, destination_dir_id):\n",
    "    title = file_path.split('/')[-1]\n",
    "    f = drive.CreateFile({\n",
    "        'title':title,\n",
    "        \"parents\": [{\n",
    "            \"kind\": \"drive#fileLink\", \n",
    "            #'teamDriveId': team_drive_id, \n",
    "            \"id\": destination_dir_id\n",
    "        }]}\n",
    "    )\n",
    "    f.SetContentFile(file_path)\n",
    "    #f.Upload(param={'supportsTeamDrives': True})\n",
    "    f.Upload()\n",
    "    pass"
   ]
  },
  {
   "cell_type": "code",
   "execution_count": 13,
   "metadata": {},
   "outputs": [],
   "source": [
    "def upload_directory(drive, src_dir_path, destination_dir_id):\n",
    "    \n",
    "    folder_name = src_dir_path.split('/')[-1]\n",
    "    new_folder_id = create_folder(drive, folder_name, destination_dir_id)\n",
    "    os.chdir(src_dir_path)\n",
    "    all_paths = os.listdir('.')\n",
    "    \n",
    "    for p in all_paths:\n",
    "        full_path = os.path.join(src_dir_path,p)\n",
    "        if os.path.isfile(full_path):\n",
    "            upload_file(drive, full_path, new_folder_id)\n",
    "        elif os.path.isdir(full_path):\n",
    "            upload_directory(drive, full_path, new_folder_id)\n",
    "        else:\n",
    "            print(\"Path {} is neither diretory nor fle\".format(p))\n",
    "            \n",
    "    pass"
   ]
  },
  {
   "cell_type": "code",
   "execution_count": 23,
   "metadata": {},
   "outputs": [],
   "source": [
    "#team_drive_id = \">team_drive_id>\" #last part of url\n",
    "folder_id = \"<folder_id>\" #last part of url for the folder\n",
    "\n",
    "src_dir_path = \"/path/to/ADNI/or/test/folder\"\n",
    "\n",
    "upload_directory(drive, src_dir_path, folder_id)"
   ]
  },
  {
   "cell_type": "code",
   "execution_count": null,
   "metadata": {},
   "outputs": [],
   "source": []
  }
 ],
 "metadata": {
  "kernelspec": {
   "display_name": "Python 3",
   "language": "python",
   "name": "python3"
  },
  "language_info": {
   "codemirror_mode": {
    "name": "ipython",
    "version": 3
   },
   "file_extension": ".py",
   "mimetype": "text/x-python",
   "name": "python",
   "nbconvert_exporter": "python",
   "pygments_lexer": "ipython3",
   "version": "3.6.9"
  }
 },
 "nbformat": 4,
 "nbformat_minor": 4
}
