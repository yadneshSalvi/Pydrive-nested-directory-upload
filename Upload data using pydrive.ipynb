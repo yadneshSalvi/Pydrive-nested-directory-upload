{
 "cells": [
  {
   "cell_type": "markdown",
   "metadata": {},
   "source": [
    "# Prerequisites"
   ]
  },
  {
   "cell_type": "markdown",
   "metadata": {},
   "source": [
    "1. Create a project on Google Developers console\n",
    "2. Enable Google drive api for the project\n",
    "3. Setup credentials and OAuth, download the credentials and save them as client_secrets.json in working directory. This <a href='https://codelabs.developers.google.com/codelabs/gsuite-apis-intro/#5'>guide</a> can be useful for setting up credentials and OAuth. And this <a href='https://pythonhosted.org/PyDrive/quickstart.html#authentication'>guide</a> for introduction to pydrive\n"
   ]
  },
  {
   "cell_type": "code",
   "execution_count": 6,
   "metadata": {},
   "outputs": [],
   "source": [
    "import os\n",
    "import shutil\n",
    "import random\n",
    "import glob\n",
    "import re\n",
    "from zipfile import ZipFile"
   ]
  },
  {
   "cell_type": "markdown",
   "metadata": {},
   "source": [
    "# Uploading the files"
   ]
  },
  {
   "cell_type": "code",
   "execution_count": 1,
   "metadata": {},
   "outputs": [
    {
     "name": "stdout",
     "output_type": "stream",
     "text": [
      "Your browser has been opened to visit:\n",
      "\n",
      "    https://accounts.google.com/o/oauth2/auth?client_id=709211786339-8me0rsaice79ih2jifhtcqgl8536oakq.apps.googleusercontent.com&redirect_uri=http%3A%2F%2Flocalhost%3A8080%2F&scope=https%3A%2F%2Fwww.googleapis.com%2Fauth%2Fdrive&access_type=offline&response_type=code\n",
      "\n",
      "Authentication successful.\n"
     ]
    }
   ],
   "source": [
    "from pydrive.auth import GoogleAuth\n",
    "#os.chdir('/path/to/working/directory')\n",
    "gauth = GoogleAuth()\n",
    "gauth.LocalWebserverAuth() # Creates local webserver and auto handles authentication."
   ]
  },
  {
   "cell_type": "code",
   "execution_count": 2,
   "metadata": {},
   "outputs": [],
   "source": [
    "from pydrive.drive import GoogleDrive\n",
    "\n",
    "drive = GoogleDrive(gauth)"
   ]
  },
  {
   "cell_type": "markdown",
   "metadata": {},
   "source": [
    "## Listing directories inside a shared drive or inside a folder"
   ]
  },
  {
   "cell_type": "code",
   "execution_count": 3,
   "metadata": {},
   "outputs": [
    {
     "name": "stdout",
     "output_type": "stream",
     "text": [
      "ADNIMERGE.csv 1npaNJIjQLB1hYQcn4YrT_113D-zRF639\n",
      "Nabarun 1vrckPbtoIPNuT4KGzD39DEFkT-wLOVQ2\n",
      "ADNI Labeled 1viLS9qQhHRIu6vJEvoIf6MIqlo45Y0iB\n",
      "ADNI Longitudinal 1aM8sZRpnCP4EwUA1UkqCP4q5fElqPylj\n"
     ]
    }
   ],
   "source": [
    "team_drive_id = \"<team_drive_id>\"#this id is in the url after the last slash\n",
    "\n",
    "query = \"'\"+str(team_drive_id)+\"' in parents and trashed=False\"\n",
    "#you can put folder_id in query as well\n",
    "\n",
    "file_list = drive.ListFile({'q':query,\n",
    "                            'corpora':'teamDrive',\n",
    "                            'teamDriveId':team_drive_id,\n",
    "                            'includeTeamDriveItems': True, \n",
    "                            'supportsTeamDrives' : True,\n",
    "                            }).GetList()\n",
    "for f in file_list:\n",
    "    print(f['title'], f['id'])"
   ]
  },
  {
   "cell_type": "markdown",
   "metadata": {},
   "source": [
    "## Creating a test file inside a folder on the shared drive\n",
    "This worked perfectly in the afternoon but is giving shared drive file llimit reached now"
   ]
  },
  {
   "cell_type": "code",
   "execution_count": 4,
   "metadata": {
    "scrolled": true
   },
   "outputs": [
    {
     "ename": "ApiRequestError",
     "evalue": "<HttpError 403 when requesting https://www.googleapis.com/upload/drive/v2/files?supportsTeamDrives=true&alt=json&uploadType=resumable returned \"The file limit for this shared drive has been exceeded.\">",
     "output_type": "error",
     "traceback": [
      "\u001b[0;31m---------------------------------------------------------------------------\u001b[0m",
      "\u001b[0;31mHttpError\u001b[0m                                 Traceback (most recent call last)",
      "\u001b[0;32m~/.local/lib/python3.6/site-packages/pydrive/files.py\u001b[0m in \u001b[0;36m_FilesInsert\u001b[0;34m(self, param)\u001b[0m\n\u001b[1;32m    368\u001b[0m       metadata = self.auth.service.files().insert(**param).execute(\n\u001b[0;32m--> 369\u001b[0;31m         http=self.http)\n\u001b[0m\u001b[1;32m    370\u001b[0m     \u001b[0;32mexcept\u001b[0m \u001b[0merrors\u001b[0m\u001b[0;34m.\u001b[0m\u001b[0mHttpError\u001b[0m \u001b[0;32mas\u001b[0m \u001b[0merror\u001b[0m\u001b[0;34m:\u001b[0m\u001b[0;34m\u001b[0m\u001b[0;34m\u001b[0m\u001b[0m\n",
      "\u001b[0;32m~/.local/lib/python3.6/site-packages/googleapiclient/_helpers.py\u001b[0m in \u001b[0;36mpositional_wrapper\u001b[0;34m(*args, **kwargs)\u001b[0m\n\u001b[1;32m    133\u001b[0m                     \u001b[0mlogger\u001b[0m\u001b[0;34m.\u001b[0m\u001b[0mwarning\u001b[0m\u001b[0;34m(\u001b[0m\u001b[0mmessage\u001b[0m\u001b[0;34m)\u001b[0m\u001b[0;34m\u001b[0m\u001b[0;34m\u001b[0m\u001b[0m\n\u001b[0;32m--> 134\u001b[0;31m             \u001b[0;32mreturn\u001b[0m \u001b[0mwrapped\u001b[0m\u001b[0;34m(\u001b[0m\u001b[0;34m*\u001b[0m\u001b[0margs\u001b[0m\u001b[0;34m,\u001b[0m \u001b[0;34m**\u001b[0m\u001b[0mkwargs\u001b[0m\u001b[0;34m)\u001b[0m\u001b[0;34m\u001b[0m\u001b[0;34m\u001b[0m\u001b[0m\n\u001b[0m\u001b[1;32m    135\u001b[0m \u001b[0;34m\u001b[0m\u001b[0m\n",
      "\u001b[0;32m~/.local/lib/python3.6/site-packages/googleapiclient/http.py\u001b[0m in \u001b[0;36mexecute\u001b[0;34m(self, http, num_retries)\u001b[0m\n\u001b[1;32m    870\u001b[0m             \u001b[0;32mwhile\u001b[0m \u001b[0mbody\u001b[0m \u001b[0;32mis\u001b[0m \u001b[0;32mNone\u001b[0m\u001b[0;34m:\u001b[0m\u001b[0;34m\u001b[0m\u001b[0;34m\u001b[0m\u001b[0m\n\u001b[0;32m--> 871\u001b[0;31m                 \u001b[0m_\u001b[0m\u001b[0;34m,\u001b[0m \u001b[0mbody\u001b[0m \u001b[0;34m=\u001b[0m \u001b[0mself\u001b[0m\u001b[0;34m.\u001b[0m\u001b[0mnext_chunk\u001b[0m\u001b[0;34m(\u001b[0m\u001b[0mhttp\u001b[0m\u001b[0;34m=\u001b[0m\u001b[0mhttp\u001b[0m\u001b[0;34m,\u001b[0m \u001b[0mnum_retries\u001b[0m\u001b[0;34m=\u001b[0m\u001b[0mnum_retries\u001b[0m\u001b[0;34m)\u001b[0m\u001b[0;34m\u001b[0m\u001b[0;34m\u001b[0m\u001b[0m\n\u001b[0m\u001b[1;32m    872\u001b[0m             \u001b[0;32mreturn\u001b[0m \u001b[0mbody\u001b[0m\u001b[0;34m\u001b[0m\u001b[0;34m\u001b[0m\u001b[0m\n",
      "\u001b[0;32m~/.local/lib/python3.6/site-packages/googleapiclient/_helpers.py\u001b[0m in \u001b[0;36mpositional_wrapper\u001b[0;34m(*args, **kwargs)\u001b[0m\n\u001b[1;32m    133\u001b[0m                     \u001b[0mlogger\u001b[0m\u001b[0;34m.\u001b[0m\u001b[0mwarning\u001b[0m\u001b[0;34m(\u001b[0m\u001b[0mmessage\u001b[0m\u001b[0;34m)\u001b[0m\u001b[0;34m\u001b[0m\u001b[0;34m\u001b[0m\u001b[0m\n\u001b[0;32m--> 134\u001b[0;31m             \u001b[0;32mreturn\u001b[0m \u001b[0mwrapped\u001b[0m\u001b[0;34m(\u001b[0m\u001b[0;34m*\u001b[0m\u001b[0margs\u001b[0m\u001b[0;34m,\u001b[0m \u001b[0;34m**\u001b[0m\u001b[0mkwargs\u001b[0m\u001b[0;34m)\u001b[0m\u001b[0;34m\u001b[0m\u001b[0;34m\u001b[0m\u001b[0m\n\u001b[0m\u001b[1;32m    135\u001b[0m \u001b[0;34m\u001b[0m\u001b[0m\n",
      "\u001b[0;32m~/.local/lib/python3.6/site-packages/googleapiclient/http.py\u001b[0m in \u001b[0;36mnext_chunk\u001b[0;34m(self, http, num_retries)\u001b[0m\n\u001b[1;32m   1053\u001b[0m \u001b[0;34m\u001b[0m\u001b[0m\n\u001b[0;32m-> 1054\u001b[0;31m         \u001b[0;32mreturn\u001b[0m \u001b[0mself\u001b[0m\u001b[0;34m.\u001b[0m\u001b[0m_process_response\u001b[0m\u001b[0;34m(\u001b[0m\u001b[0mresp\u001b[0m\u001b[0;34m,\u001b[0m \u001b[0mcontent\u001b[0m\u001b[0;34m)\u001b[0m\u001b[0;34m\u001b[0m\u001b[0;34m\u001b[0m\u001b[0m\n\u001b[0m\u001b[1;32m   1055\u001b[0m \u001b[0;34m\u001b[0m\u001b[0m\n",
      "\u001b[0;32m~/.local/lib/python3.6/site-packages/googleapiclient/http.py\u001b[0m in \u001b[0;36m_process_response\u001b[0;34m(self, resp, content)\u001b[0m\n\u001b[1;32m   1084\u001b[0m             \u001b[0mself\u001b[0m\u001b[0;34m.\u001b[0m\u001b[0m_in_error_state\u001b[0m \u001b[0;34m=\u001b[0m \u001b[0;32mTrue\u001b[0m\u001b[0;34m\u001b[0m\u001b[0;34m\u001b[0m\u001b[0m\n\u001b[0;32m-> 1085\u001b[0;31m             \u001b[0;32mraise\u001b[0m \u001b[0mHttpError\u001b[0m\u001b[0;34m(\u001b[0m\u001b[0mresp\u001b[0m\u001b[0;34m,\u001b[0m \u001b[0mcontent\u001b[0m\u001b[0;34m,\u001b[0m \u001b[0muri\u001b[0m\u001b[0;34m=\u001b[0m\u001b[0mself\u001b[0m\u001b[0;34m.\u001b[0m\u001b[0muri\u001b[0m\u001b[0;34m)\u001b[0m\u001b[0;34m\u001b[0m\u001b[0;34m\u001b[0m\u001b[0m\n\u001b[0m\u001b[1;32m   1086\u001b[0m \u001b[0;34m\u001b[0m\u001b[0m\n",
      "\u001b[0;31mHttpError\u001b[0m: <HttpError 403 when requesting https://www.googleapis.com/upload/drive/v2/files?supportsTeamDrives=true&alt=json&uploadType=resumable returned \"The file limit for this shared drive has been exceeded.\">",
      "\nDuring handling of the above exception, another exception occurred:\n",
      "\u001b[0;31mApiRequestError\u001b[0m                           Traceback (most recent call last)",
      "\u001b[0;32m<ipython-input-4-2d665b1f3b5e>\u001b[0m in \u001b[0;36m<module>\u001b[0;34m\u001b[0m\n\u001b[1;32m     12\u001b[0m \u001b[0mf\u001b[0m\u001b[0;34m.\u001b[0m\u001b[0mSetContentString\u001b[0m\u001b[0;34m(\u001b[0m\u001b[0;34m'Testing the google drive api upload.'\u001b[0m\u001b[0;34m)\u001b[0m\u001b[0;34m\u001b[0m\u001b[0;34m\u001b[0m\u001b[0m\n\u001b[1;32m     13\u001b[0m \u001b[0;34m\u001b[0m\u001b[0m\n\u001b[0;32m---> 14\u001b[0;31m \u001b[0mf\u001b[0m\u001b[0;34m.\u001b[0m\u001b[0mUpload\u001b[0m\u001b[0;34m(\u001b[0m\u001b[0mparam\u001b[0m\u001b[0;34m=\u001b[0m\u001b[0;34m{\u001b[0m\u001b[0;34m'supportsTeamDrives'\u001b[0m\u001b[0;34m:\u001b[0m \u001b[0;32mTrue\u001b[0m\u001b[0;34m}\u001b[0m\u001b[0;34m)\u001b[0m\u001b[0;34m\u001b[0m\u001b[0;34m\u001b[0m\u001b[0m\n\u001b[0m",
      "\u001b[0;32m~/.local/lib/python3.6/site-packages/pydrive/files.py\u001b[0m in \u001b[0;36mUpload\u001b[0;34m(self, param)\u001b[0m\n\u001b[1;32m    283\u001b[0m         \u001b[0mself\u001b[0m\u001b[0;34m.\u001b[0m\u001b[0m_FilesPatch\u001b[0m\u001b[0;34m(\u001b[0m\u001b[0mparam\u001b[0m\u001b[0;34m=\u001b[0m\u001b[0mparam\u001b[0m\u001b[0;34m)\u001b[0m\u001b[0;34m\u001b[0m\u001b[0;34m\u001b[0m\u001b[0m\n\u001b[1;32m    284\u001b[0m     \u001b[0;32melse\u001b[0m\u001b[0;34m:\u001b[0m\u001b[0;34m\u001b[0m\u001b[0;34m\u001b[0m\u001b[0m\n\u001b[0;32m--> 285\u001b[0;31m       \u001b[0mself\u001b[0m\u001b[0;34m.\u001b[0m\u001b[0m_FilesInsert\u001b[0m\u001b[0;34m(\u001b[0m\u001b[0mparam\u001b[0m\u001b[0;34m=\u001b[0m\u001b[0mparam\u001b[0m\u001b[0;34m)\u001b[0m\u001b[0;34m\u001b[0m\u001b[0;34m\u001b[0m\u001b[0m\n\u001b[0m\u001b[1;32m    286\u001b[0m \u001b[0;34m\u001b[0m\u001b[0m\n\u001b[1;32m    287\u001b[0m   \u001b[0;32mdef\u001b[0m \u001b[0mTrash\u001b[0m\u001b[0;34m(\u001b[0m\u001b[0mself\u001b[0m\u001b[0;34m,\u001b[0m \u001b[0mparam\u001b[0m\u001b[0;34m=\u001b[0m\u001b[0;32mNone\u001b[0m\u001b[0;34m)\u001b[0m\u001b[0;34m:\u001b[0m\u001b[0;34m\u001b[0m\u001b[0;34m\u001b[0m\u001b[0m\n",
      "\u001b[0;32m~/.local/lib/python3.6/site-packages/pydrive/auth.py\u001b[0m in \u001b[0;36m_decorated\u001b[0;34m(self, *args, **kwargs)\u001b[0m\n\u001b[1;32m     73\u001b[0m       \u001b[0mself\u001b[0m\u001b[0;34m.\u001b[0m\u001b[0mhttp\u001b[0m \u001b[0;34m=\u001b[0m \u001b[0mself\u001b[0m\u001b[0;34m.\u001b[0m\u001b[0mauth\u001b[0m\u001b[0;34m.\u001b[0m\u001b[0mGet_Http_Object\u001b[0m\u001b[0;34m(\u001b[0m\u001b[0;34m)\u001b[0m\u001b[0;34m\u001b[0m\u001b[0;34m\u001b[0m\u001b[0m\n\u001b[1;32m     74\u001b[0m \u001b[0;34m\u001b[0m\u001b[0m\n\u001b[0;32m---> 75\u001b[0;31m     \u001b[0;32mreturn\u001b[0m \u001b[0mdecoratee\u001b[0m\u001b[0;34m(\u001b[0m\u001b[0mself\u001b[0m\u001b[0;34m,\u001b[0m \u001b[0;34m*\u001b[0m\u001b[0margs\u001b[0m\u001b[0;34m,\u001b[0m \u001b[0;34m**\u001b[0m\u001b[0mkwargs\u001b[0m\u001b[0;34m)\u001b[0m\u001b[0;34m\u001b[0m\u001b[0;34m\u001b[0m\u001b[0m\n\u001b[0m\u001b[1;32m     76\u001b[0m   \u001b[0;32mreturn\u001b[0m \u001b[0m_decorated\u001b[0m\u001b[0;34m\u001b[0m\u001b[0;34m\u001b[0m\u001b[0m\n\u001b[1;32m     77\u001b[0m \u001b[0;34m\u001b[0m\u001b[0m\n",
      "\u001b[0;32m~/.local/lib/python3.6/site-packages/pydrive/files.py\u001b[0m in \u001b[0;36m_FilesInsert\u001b[0;34m(self, param)\u001b[0m\n\u001b[1;32m    369\u001b[0m         http=self.http)\n\u001b[1;32m    370\u001b[0m     \u001b[0;32mexcept\u001b[0m \u001b[0merrors\u001b[0m\u001b[0;34m.\u001b[0m\u001b[0mHttpError\u001b[0m \u001b[0;32mas\u001b[0m \u001b[0merror\u001b[0m\u001b[0;34m:\u001b[0m\u001b[0;34m\u001b[0m\u001b[0;34m\u001b[0m\u001b[0m\n\u001b[0;32m--> 371\u001b[0;31m       \u001b[0;32mraise\u001b[0m \u001b[0mApiRequestError\u001b[0m\u001b[0;34m(\u001b[0m\u001b[0merror\u001b[0m\u001b[0;34m)\u001b[0m\u001b[0;34m\u001b[0m\u001b[0;34m\u001b[0m\u001b[0m\n\u001b[0m\u001b[1;32m    372\u001b[0m     \u001b[0;32melse\u001b[0m\u001b[0;34m:\u001b[0m\u001b[0;34m\u001b[0m\u001b[0;34m\u001b[0m\u001b[0m\n\u001b[1;32m    373\u001b[0m       \u001b[0mself\u001b[0m\u001b[0;34m.\u001b[0m\u001b[0muploaded\u001b[0m \u001b[0;34m=\u001b[0m \u001b[0;32mTrue\u001b[0m\u001b[0;34m\u001b[0m\u001b[0;34m\u001b[0m\u001b[0m\n",
      "\u001b[0;31mApiRequestError\u001b[0m: <HttpError 403 when requesting https://www.googleapis.com/upload/drive/v2/files?supportsTeamDrives=true&alt=json&uploadType=resumable returned \"The file limit for this shared drive has been exceeded.\">"
     ]
    }
   ],
   "source": [
    "team_drive_id = \"<team_drive_id>\"\n",
    "MCI_NC_folder_id = \"<folder_id>\"\n",
    "\n",
    "f = drive.CreateFile({\n",
    "    'title': 'test_api.txt',\n",
    "    'parents': [{\n",
    "        'kind': 'drive#fileLink',\n",
    "        'teamDriveId': team_drive_id,\n",
    "        'id': MCI_NC_folder_id\n",
    "    }]\n",
    "})\n",
    "f.SetContentString('Testing the google drive api upload.')\n",
    "\n",
    "f.Upload(param={'supportsTeamDrives': True})"
   ]
  },
  {
   "cell_type": "markdown",
   "metadata": {},
   "source": [
    "## Navigating a directory structure on own system"
   ]
  },
  {
   "cell_type": "code",
   "execution_count": 7,
   "metadata": {},
   "outputs": [
    {
     "name": "stdout",
     "output_type": "stream",
     "text": [
      "Entering directory 002_S_4746/Resting_State_fMRI\n",
      "Entering directory 002_S_4746/Resting_State_fMRI/2013-06-03_15_00_48.0\n",
      "Entering directory 002_S_4746/Resting_State_fMRI/2013-06-03_15_00_48.0/S191322\n",
      "Entering directory 002_S_4746/Resting_State_fMRI/2012-12-11_15_21_53.0\n",
      "Entering directory 002_S_4746/Resting_State_fMRI/2012-12-11_15_21_53.0/S178221\n",
      "Entering directory 002_S_4746/Resting_State_fMRI/2012-09-11_13_44_50.0\n",
      "Entering directory 002_S_4746/Resting_State_fMRI/2012-09-11_13_44_50.0/S167243\n",
      "Entering directory 002_S_4746/Resting_State_fMRI/2012-05-29_16_35_01.0\n",
      "Entering directory 002_S_4746/Resting_State_fMRI/2012-05-29_16_35_01.0/S151916\n",
      "Entering directory 002_S_4746/MPRAGE\n",
      "Entering directory 002_S_4746/MPRAGE/2013-06-03_15_00_48.0\n",
      "Entering directory 002_S_4746/MPRAGE/2013-06-03_15_00_48.0/S191323\n",
      "Entering directory 002_S_4746/MPRAGE/2012-05-29_16_37_42.0\n",
      "Entering directory 002_S_4746/MPRAGE/2012-05-29_16_37_42.0/S151914\n",
      "Entering directory 002_S_4746/MPRAGE/2012-12-11_15_29_16.0\n",
      "Entering directory 002_S_4746/MPRAGE/2012-12-11_15_29_16.0/S178220\n",
      "Entering directory 002_S_4746/MPRAGE/2012-09-11_13_47_35.0\n",
      "Entering directory 002_S_4746/MPRAGE/2012-09-11_13_47_35.0/S167239\n",
      "27578\n"
     ]
    }
   ],
   "source": [
    "num_files = 0\n",
    "\n",
    "def list_all_files(path):\n",
    "    global num_files\n",
    "    num_files+=1\n",
    "    \n",
    "    if os.path.isfile(path):\n",
    "        #print(path)\n",
    "        pass\n",
    "    elif os.path.isdir(path):\n",
    "        dir_name = re.search('ADNI/(.+?)$',path).group(1)\n",
    "        print(\"Entering directory {}\".format(dir_name))\n",
    "        os.chdir(path)\n",
    "        all_p = os.listdir('.')\n",
    "        #print(all_p)\n",
    "        for p in all_p:\n",
    "            list_all_files(os.path.join(path,p))\n",
    "    \n",
    "    pass\n",
    "\n",
    "\n",
    "src_directory = '/path/to/subject/folder'\n",
    "\n",
    "all_paths = glob.glob(os.path.join(src_directory,'*'))\n",
    "\n",
    "for path in all_paths:\n",
    "    list_all_files(path)\n",
    "print(num_files)"
   ]
  },
  {
   "cell_type": "markdown",
   "metadata": {},
   "source": [
    "## Uploading nested directory structure on shared drive"
   ]
  },
  {
   "cell_type": "code",
   "execution_count": 8,
   "metadata": {},
   "outputs": [],
   "source": [
    "def create_folder(drive, folder_name, parent_folder_id, team_drive_id):\n",
    "    \n",
    "    folder_metadata = {\n",
    "        'title': folder_name,\n",
    "        'mimeType': 'application/vnd.google-apps.folder',\n",
    "        'parents': [{\n",
    "            'kind': 'drive#fileLink',\n",
    "            'teamDriveId': team_drive_id,\n",
    "            'id': parent_folder_id\n",
    "        }]\n",
    "    }\n",
    "\n",
    "    folder = drive.CreateFile(folder_metadata)\n",
    "    folder.Upload(param={'supportsTeamDrives': True})\n",
    "\n",
    "    # Return folder informations\n",
    "    print('Created folder title: {}, id: {}'.format(folder['title'], folder['id']))\n",
    "    return (folder['id'])\n",
    "\n",
    "\n",
    "def upload_file(drive, file_path, destination_dir_id, team_drive_id):\n",
    "    title = file_path.split('/')[-1]\n",
    "    f = drive.CreateFile({\n",
    "        'title':title,\n",
    "        \"parents\": [{\n",
    "            \"kind\": \"drive#fileLink\", \n",
    "            'teamDriveId': team_drive_id, \n",
    "            \"id\": destination_dir_id\n",
    "        }]}\n",
    "    )\n",
    "    f.SetContentFile(file_path)\n",
    "    f.Upload(param={'supportsTeamDrives': True})\n",
    "    pass"
   ]
  },
  {
   "cell_type": "code",
   "execution_count": 9,
   "metadata": {},
   "outputs": [],
   "source": [
    "def upload_directory(drive, src_dir_path, destination_dir_id, team_drive_id):\n",
    "    \n",
    "    folder_name = src_dir_path.split('/')[-1]\n",
    "    new_folder_id = create_folder(drive, folder_name, destination_dir_id, team_drive_id)\n",
    "    os.chdir(src_dir_path)\n",
    "    all_paths = os.listdir('.')\n",
    "    \n",
    "    for p in all_paths:\n",
    "        full_path = os.path.join(src_dir_path,p)\n",
    "        if os.path.isfile(full_path):\n",
    "            upload_file(drive, full_path, new_folder_id, team_drive_id)\n",
    "        elif os.path.isdir(full_path):\n",
    "            upload_directory(drive, full_path, new_folder_id, team_drive_id)\n",
    "        else:\n",
    "            print(\"Path {} is neither diretory nor fle\".format(p))\n",
    "            \n",
    "    pass"
   ]
  },
  {
   "cell_type": "markdown",
   "metadata": {},
   "source": [
    "# The drive id and folder id are the last part of the url\n",
    "I was not able to make sure whether this part worked correctly since I was getting file limit reached from the first trail itself."
   ]
  },
  {
   "cell_type": "code",
   "execution_count": 11,
   "metadata": {
    "scrolled": true
   },
   "outputs": [
    {
     "ename": "ApiRequestError",
     "evalue": "<HttpError 403 when requesting https://www.googleapis.com/drive/v2/files?supportsTeamDrives=true&alt=json returned \"The file limit for this shared drive has been exceeded.\">",
     "output_type": "error",
     "traceback": [
      "\u001b[0;31m---------------------------------------------------------------------------\u001b[0m",
      "\u001b[0;31mHttpError\u001b[0m                                 Traceback (most recent call last)",
      "\u001b[0;32m~/.local/lib/python3.6/site-packages/pydrive/files.py\u001b[0m in \u001b[0;36m_FilesInsert\u001b[0;34m(self, param)\u001b[0m\n\u001b[1;32m    368\u001b[0m       metadata = self.auth.service.files().insert(**param).execute(\n\u001b[0;32m--> 369\u001b[0;31m         http=self.http)\n\u001b[0m\u001b[1;32m    370\u001b[0m     \u001b[0;32mexcept\u001b[0m \u001b[0merrors\u001b[0m\u001b[0;34m.\u001b[0m\u001b[0mHttpError\u001b[0m \u001b[0;32mas\u001b[0m \u001b[0merror\u001b[0m\u001b[0;34m:\u001b[0m\u001b[0;34m\u001b[0m\u001b[0;34m\u001b[0m\u001b[0m\n",
      "\u001b[0;32m~/.local/lib/python3.6/site-packages/googleapiclient/_helpers.py\u001b[0m in \u001b[0;36mpositional_wrapper\u001b[0;34m(*args, **kwargs)\u001b[0m\n\u001b[1;32m    133\u001b[0m                     \u001b[0mlogger\u001b[0m\u001b[0;34m.\u001b[0m\u001b[0mwarning\u001b[0m\u001b[0;34m(\u001b[0m\u001b[0mmessage\u001b[0m\u001b[0;34m)\u001b[0m\u001b[0;34m\u001b[0m\u001b[0;34m\u001b[0m\u001b[0m\n\u001b[0;32m--> 134\u001b[0;31m             \u001b[0;32mreturn\u001b[0m \u001b[0mwrapped\u001b[0m\u001b[0;34m(\u001b[0m\u001b[0;34m*\u001b[0m\u001b[0margs\u001b[0m\u001b[0;34m,\u001b[0m \u001b[0;34m**\u001b[0m\u001b[0mkwargs\u001b[0m\u001b[0;34m)\u001b[0m\u001b[0;34m\u001b[0m\u001b[0;34m\u001b[0m\u001b[0m\n\u001b[0m\u001b[1;32m    135\u001b[0m \u001b[0;34m\u001b[0m\u001b[0m\n",
      "\u001b[0;32m~/.local/lib/python3.6/site-packages/googleapiclient/http.py\u001b[0m in \u001b[0;36mexecute\u001b[0;34m(self, http, num_retries)\u001b[0m\n\u001b[1;32m    906\u001b[0m         \u001b[0;32mif\u001b[0m \u001b[0mresp\u001b[0m\u001b[0;34m.\u001b[0m\u001b[0mstatus\u001b[0m \u001b[0;34m>=\u001b[0m \u001b[0;36m300\u001b[0m\u001b[0;34m:\u001b[0m\u001b[0;34m\u001b[0m\u001b[0;34m\u001b[0m\u001b[0m\n\u001b[0;32m--> 907\u001b[0;31m             \u001b[0;32mraise\u001b[0m \u001b[0mHttpError\u001b[0m\u001b[0;34m(\u001b[0m\u001b[0mresp\u001b[0m\u001b[0;34m,\u001b[0m \u001b[0mcontent\u001b[0m\u001b[0;34m,\u001b[0m \u001b[0muri\u001b[0m\u001b[0;34m=\u001b[0m\u001b[0mself\u001b[0m\u001b[0;34m.\u001b[0m\u001b[0muri\u001b[0m\u001b[0;34m)\u001b[0m\u001b[0;34m\u001b[0m\u001b[0;34m\u001b[0m\u001b[0m\n\u001b[0m\u001b[1;32m    908\u001b[0m         \u001b[0;32mreturn\u001b[0m \u001b[0mself\u001b[0m\u001b[0;34m.\u001b[0m\u001b[0mpostproc\u001b[0m\u001b[0;34m(\u001b[0m\u001b[0mresp\u001b[0m\u001b[0;34m,\u001b[0m \u001b[0mcontent\u001b[0m\u001b[0;34m)\u001b[0m\u001b[0;34m\u001b[0m\u001b[0;34m\u001b[0m\u001b[0m\n",
      "\u001b[0;31mHttpError\u001b[0m: <HttpError 403 when requesting https://www.googleapis.com/drive/v2/files?supportsTeamDrives=true&alt=json returned \"The file limit for this shared drive has been exceeded.\">",
      "\nDuring handling of the above exception, another exception occurred:\n",
      "\u001b[0;31mApiRequestError\u001b[0m                           Traceback (most recent call last)",
      "\u001b[0;32m<ipython-input-11-e32825160e6a>\u001b[0m in \u001b[0;36m<module>\u001b[0;34m\u001b[0m\n\u001b[1;32m      4\u001b[0m \u001b[0msrc_dir_path\u001b[0m \u001b[0;34m=\u001b[0m \u001b[0;34m\"/home/sdlab/Downloads/ADNI data/MCI_NC and MCI_multi cohorts/uploaded/MCI_multi/test_api1\"\u001b[0m\u001b[0;34m\u001b[0m\u001b[0;34m\u001b[0m\u001b[0m\n\u001b[1;32m      5\u001b[0m \u001b[0;34m\u001b[0m\u001b[0m\n\u001b[0;32m----> 6\u001b[0;31m \u001b[0mupload_directory\u001b[0m\u001b[0;34m(\u001b[0m\u001b[0mdrive\u001b[0m\u001b[0;34m,\u001b[0m \u001b[0msrc_dir_path\u001b[0m\u001b[0;34m,\u001b[0m \u001b[0mMCI_NC_folder_id\u001b[0m\u001b[0;34m,\u001b[0m \u001b[0mteam_drive_id\u001b[0m\u001b[0;34m)\u001b[0m\u001b[0;34m\u001b[0m\u001b[0;34m\u001b[0m\u001b[0m\n\u001b[0m",
      "\u001b[0;32m<ipython-input-9-a645f78a280c>\u001b[0m in \u001b[0;36mupload_directory\u001b[0;34m(drive, src_dir_path, destination_dir_id, team_drive_id)\u001b[0m\n\u001b[1;32m      2\u001b[0m \u001b[0;34m\u001b[0m\u001b[0m\n\u001b[1;32m      3\u001b[0m     \u001b[0mfolder_name\u001b[0m \u001b[0;34m=\u001b[0m \u001b[0msrc_dir_path\u001b[0m\u001b[0;34m.\u001b[0m\u001b[0msplit\u001b[0m\u001b[0;34m(\u001b[0m\u001b[0;34m'/'\u001b[0m\u001b[0;34m)\u001b[0m\u001b[0;34m[\u001b[0m\u001b[0;34m-\u001b[0m\u001b[0;36m1\u001b[0m\u001b[0;34m]\u001b[0m\u001b[0;34m\u001b[0m\u001b[0;34m\u001b[0m\u001b[0m\n\u001b[0;32m----> 4\u001b[0;31m     \u001b[0mnew_folder_id\u001b[0m \u001b[0;34m=\u001b[0m \u001b[0mcreate_folder\u001b[0m\u001b[0;34m(\u001b[0m\u001b[0mdrive\u001b[0m\u001b[0;34m,\u001b[0m \u001b[0mfolder_name\u001b[0m\u001b[0;34m,\u001b[0m \u001b[0mdestination_dir_id\u001b[0m\u001b[0;34m,\u001b[0m \u001b[0mteam_drive_id\u001b[0m\u001b[0;34m)\u001b[0m\u001b[0;34m\u001b[0m\u001b[0;34m\u001b[0m\u001b[0m\n\u001b[0m\u001b[1;32m      5\u001b[0m     \u001b[0mos\u001b[0m\u001b[0;34m.\u001b[0m\u001b[0mchdir\u001b[0m\u001b[0;34m(\u001b[0m\u001b[0msrc_dir_path\u001b[0m\u001b[0;34m)\u001b[0m\u001b[0;34m\u001b[0m\u001b[0;34m\u001b[0m\u001b[0m\n\u001b[1;32m      6\u001b[0m     \u001b[0mall_paths\u001b[0m \u001b[0;34m=\u001b[0m \u001b[0mos\u001b[0m\u001b[0;34m.\u001b[0m\u001b[0mlistdir\u001b[0m\u001b[0;34m(\u001b[0m\u001b[0;34m'.'\u001b[0m\u001b[0;34m)\u001b[0m\u001b[0;34m\u001b[0m\u001b[0;34m\u001b[0m\u001b[0m\n",
      "\u001b[0;32m<ipython-input-8-008666d80d2c>\u001b[0m in \u001b[0;36mcreate_folder\u001b[0;34m(drive, folder_name, parent_folder_id, team_drive_id)\u001b[0m\n\u001b[1;32m     12\u001b[0m \u001b[0;34m\u001b[0m\u001b[0m\n\u001b[1;32m     13\u001b[0m     \u001b[0mfolder\u001b[0m \u001b[0;34m=\u001b[0m \u001b[0mdrive\u001b[0m\u001b[0;34m.\u001b[0m\u001b[0mCreateFile\u001b[0m\u001b[0;34m(\u001b[0m\u001b[0mfolder_metadata\u001b[0m\u001b[0;34m)\u001b[0m\u001b[0;34m\u001b[0m\u001b[0;34m\u001b[0m\u001b[0m\n\u001b[0;32m---> 14\u001b[0;31m     \u001b[0mfolder\u001b[0m\u001b[0;34m.\u001b[0m\u001b[0mUpload\u001b[0m\u001b[0;34m(\u001b[0m\u001b[0mparam\u001b[0m\u001b[0;34m=\u001b[0m\u001b[0;34m{\u001b[0m\u001b[0;34m'supportsTeamDrives'\u001b[0m\u001b[0;34m:\u001b[0m \u001b[0;32mTrue\u001b[0m\u001b[0;34m}\u001b[0m\u001b[0;34m)\u001b[0m\u001b[0;34m\u001b[0m\u001b[0;34m\u001b[0m\u001b[0m\n\u001b[0m\u001b[1;32m     15\u001b[0m \u001b[0;34m\u001b[0m\u001b[0m\n\u001b[1;32m     16\u001b[0m     \u001b[0;31m# Return folder informations\u001b[0m\u001b[0;34m\u001b[0m\u001b[0;34m\u001b[0m\u001b[0;34m\u001b[0m\u001b[0m\n",
      "\u001b[0;32m~/.local/lib/python3.6/site-packages/pydrive/files.py\u001b[0m in \u001b[0;36mUpload\u001b[0;34m(self, param)\u001b[0m\n\u001b[1;32m    283\u001b[0m         \u001b[0mself\u001b[0m\u001b[0;34m.\u001b[0m\u001b[0m_FilesPatch\u001b[0m\u001b[0;34m(\u001b[0m\u001b[0mparam\u001b[0m\u001b[0;34m=\u001b[0m\u001b[0mparam\u001b[0m\u001b[0;34m)\u001b[0m\u001b[0;34m\u001b[0m\u001b[0;34m\u001b[0m\u001b[0m\n\u001b[1;32m    284\u001b[0m     \u001b[0;32melse\u001b[0m\u001b[0;34m:\u001b[0m\u001b[0;34m\u001b[0m\u001b[0;34m\u001b[0m\u001b[0m\n\u001b[0;32m--> 285\u001b[0;31m       \u001b[0mself\u001b[0m\u001b[0;34m.\u001b[0m\u001b[0m_FilesInsert\u001b[0m\u001b[0;34m(\u001b[0m\u001b[0mparam\u001b[0m\u001b[0;34m=\u001b[0m\u001b[0mparam\u001b[0m\u001b[0;34m)\u001b[0m\u001b[0;34m\u001b[0m\u001b[0;34m\u001b[0m\u001b[0m\n\u001b[0m\u001b[1;32m    286\u001b[0m \u001b[0;34m\u001b[0m\u001b[0m\n\u001b[1;32m    287\u001b[0m   \u001b[0;32mdef\u001b[0m \u001b[0mTrash\u001b[0m\u001b[0;34m(\u001b[0m\u001b[0mself\u001b[0m\u001b[0;34m,\u001b[0m \u001b[0mparam\u001b[0m\u001b[0;34m=\u001b[0m\u001b[0;32mNone\u001b[0m\u001b[0;34m)\u001b[0m\u001b[0;34m:\u001b[0m\u001b[0;34m\u001b[0m\u001b[0;34m\u001b[0m\u001b[0m\n",
      "\u001b[0;32m~/.local/lib/python3.6/site-packages/pydrive/auth.py\u001b[0m in \u001b[0;36m_decorated\u001b[0;34m(self, *args, **kwargs)\u001b[0m\n\u001b[1;32m     73\u001b[0m       \u001b[0mself\u001b[0m\u001b[0;34m.\u001b[0m\u001b[0mhttp\u001b[0m \u001b[0;34m=\u001b[0m \u001b[0mself\u001b[0m\u001b[0;34m.\u001b[0m\u001b[0mauth\u001b[0m\u001b[0;34m.\u001b[0m\u001b[0mGet_Http_Object\u001b[0m\u001b[0;34m(\u001b[0m\u001b[0;34m)\u001b[0m\u001b[0;34m\u001b[0m\u001b[0;34m\u001b[0m\u001b[0m\n\u001b[1;32m     74\u001b[0m \u001b[0;34m\u001b[0m\u001b[0m\n\u001b[0;32m---> 75\u001b[0;31m     \u001b[0;32mreturn\u001b[0m \u001b[0mdecoratee\u001b[0m\u001b[0;34m(\u001b[0m\u001b[0mself\u001b[0m\u001b[0;34m,\u001b[0m \u001b[0;34m*\u001b[0m\u001b[0margs\u001b[0m\u001b[0;34m,\u001b[0m \u001b[0;34m**\u001b[0m\u001b[0mkwargs\u001b[0m\u001b[0;34m)\u001b[0m\u001b[0;34m\u001b[0m\u001b[0;34m\u001b[0m\u001b[0m\n\u001b[0m\u001b[1;32m     76\u001b[0m   \u001b[0;32mreturn\u001b[0m \u001b[0m_decorated\u001b[0m\u001b[0;34m\u001b[0m\u001b[0;34m\u001b[0m\u001b[0m\n\u001b[1;32m     77\u001b[0m \u001b[0;34m\u001b[0m\u001b[0m\n",
      "\u001b[0;32m~/.local/lib/python3.6/site-packages/pydrive/files.py\u001b[0m in \u001b[0;36m_FilesInsert\u001b[0;34m(self, param)\u001b[0m\n\u001b[1;32m    369\u001b[0m         http=self.http)\n\u001b[1;32m    370\u001b[0m     \u001b[0;32mexcept\u001b[0m \u001b[0merrors\u001b[0m\u001b[0;34m.\u001b[0m\u001b[0mHttpError\u001b[0m \u001b[0;32mas\u001b[0m \u001b[0merror\u001b[0m\u001b[0;34m:\u001b[0m\u001b[0;34m\u001b[0m\u001b[0;34m\u001b[0m\u001b[0m\n\u001b[0;32m--> 371\u001b[0;31m       \u001b[0;32mraise\u001b[0m \u001b[0mApiRequestError\u001b[0m\u001b[0;34m(\u001b[0m\u001b[0merror\u001b[0m\u001b[0;34m)\u001b[0m\u001b[0;34m\u001b[0m\u001b[0;34m\u001b[0m\u001b[0m\n\u001b[0m\u001b[1;32m    372\u001b[0m     \u001b[0;32melse\u001b[0m\u001b[0;34m:\u001b[0m\u001b[0;34m\u001b[0m\u001b[0;34m\u001b[0m\u001b[0m\n\u001b[1;32m    373\u001b[0m       \u001b[0mself\u001b[0m\u001b[0;34m.\u001b[0m\u001b[0muploaded\u001b[0m \u001b[0;34m=\u001b[0m \u001b[0;32mTrue\u001b[0m\u001b[0;34m\u001b[0m\u001b[0;34m\u001b[0m\u001b[0m\n",
      "\u001b[0;31mApiRequestError\u001b[0m: <HttpError 403 when requesting https://www.googleapis.com/drive/v2/files?supportsTeamDrives=true&alt=json returned \"The file limit for this shared drive has been exceeded.\">"
     ]
    }
   ],
   "source": [
    "team_drive_id = \"<team_drive_id>\" #last part of url for the shared drive\n",
    "MCI_NC_folder_id = \"<folder_id>\"  #last part of url for the folder\n",
    "\n",
    "src_dir_path = \"/path/to/ADNI/directory/or/test/directory\"\n",
    "\n",
    "upload_directory(drive, src_dir_path, MCI_NC_folder_id, team_drive_id)"
   ]
  },
  {
   "cell_type": "markdown",
   "metadata": {},
   "source": [
    "## Uploading nested directory structure on own drive\n",
    "This works as expected but is slow"
   ]
  },
  {
   "cell_type": "code",
   "execution_count": 12,
   "metadata": {},
   "outputs": [],
   "source": [
    "def create_folder(drive, folder_name, parent_folder_id):\n",
    "    \n",
    "    folder_metadata = {\n",
    "        'title': folder_name,\n",
    "        'mimeType': 'application/vnd.google-apps.folder',\n",
    "        'parents': [{\n",
    "            'kind': 'drive#fileLink',\n",
    "            #'teamDriveId': team_drive_id,\n",
    "            'id': parent_folder_id\n",
    "        }]\n",
    "    }\n",
    "\n",
    "    folder = drive.CreateFile(folder_metadata)\n",
    "    #folder.Upload(param={'supportsTeamDrives': True})\n",
    "    folder.Upload()\n",
    "    \n",
    "    # Return folder informations\n",
    "    print('Created folder title: {}, id: {}'.format(folder['title'], folder['id']))\n",
    "    return (folder['id'])\n",
    "\n",
    "\n",
    "def upload_file(drive, file_path, destination_dir_id):\n",
    "    title = file_path.split('/')[-1]\n",
    "    f = drive.CreateFile({\n",
    "        'title':title,\n",
    "        \"parents\": [{\n",
    "            \"kind\": \"drive#fileLink\", \n",
    "            #'teamDriveId': team_drive_id, \n",
    "            \"id\": destination_dir_id\n",
    "        }]}\n",
    "    )\n",
    "    f.SetContentFile(file_path)\n",
    "    #f.Upload(param={'supportsTeamDrives': True})\n",
    "    f.Upload()\n",
    "    pass"
   ]
  },
  {
   "cell_type": "code",
   "execution_count": 13,
   "metadata": {},
   "outputs": [],
   "source": [
    "def upload_directory(drive, src_dir_path, destination_dir_id):\n",
    "    \n",
    "    folder_name = src_dir_path.split('/')[-1]\n",
    "    new_folder_id = create_folder(drive, folder_name, destination_dir_id)\n",
    "    os.chdir(src_dir_path)\n",
    "    all_paths = os.listdir('.')\n",
    "    \n",
    "    for p in all_paths:\n",
    "        full_path = os.path.join(src_dir_path,p)\n",
    "        if os.path.isfile(full_path):\n",
    "            upload_file(drive, full_path, new_folder_id)\n",
    "        elif os.path.isdir(full_path):\n",
    "            upload_directory(drive, full_path, new_folder_id)\n",
    "        else:\n",
    "            print(\"Path {} is neither diretory nor fle\".format(p))\n",
    "            \n",
    "    pass"
   ]
  },
  {
   "cell_type": "code",
   "execution_count": 14,
   "metadata": {},
   "outputs": [
    {
     "name": "stdout",
     "output_type": "stream",
     "text": [
      "Created folder title: test_api1, id: 1xI84aKKxWVX82lYImagKqfDFoAQ23Nj6\n",
      "Created folder title: sid2, id: 1ew6GW7u9ZqmUhUiGMYxuUtPryOtZnJof\n",
      "Created folder title: m1, id: 1E3_VFIwU-QnFqH1rzgveM-f-yriep6EL\n",
      "Created folder title: date3, id: 108so0EOkt7g7Zvg7xRBw7LHjmoYLyIsZ\n",
      "Created folder title: date1, id: 18vF8H4GgZadMg2Y7MYeCGXLGgHX2ysFo\n",
      "Created folder title: date2, id: 1Mtlp3LDnKipdP3cwvkaUnO2JpNpmobau\n",
      "Created folder title: m2, id: 1GxFpnM2ICTSEELPAetrv2IQA56EfvF3f\n",
      "Created folder title: date3, id: 1u6WA4OCrPSQOZV2bc3Ma6mxnv82GcSbe\n",
      "Created folder title: date1, id: 1cZS1GGtjy171CU4BNz3Sq-XhoAUjqFU6\n",
      "Created folder title: date2, id: 1RYxwO4Z2IAqFzQxidgMuUYDlsm4FDZvP\n",
      "Created folder title: m3, id: 1dp7CBZX9t2catnbyPUbG6zDFEwv35ZGn\n",
      "Created folder title: date3, id: 1LhoDzEid9OWlmzbOwYcBq6Ly-ShGc20j\n",
      "Created folder title: date1, id: 1BC20L0YhzH0FT7Qkh2Nr6Aigz7OYYGsM\n",
      "Created folder title: date2, id: 1LU2g2M5Wr_lBIiZh-TGNPpOPSeOUeyIe\n",
      "Created folder title: sid1, id: 1neEbS5ao67SCtm51i1HkMK0eF03lBWvW\n",
      "Created folder title: m1, id: 1sOXI0l8tr8a2eTw66RBFJAiL72yYnPD1\n",
      "Created folder title: date3, id: 1x9q8z2UW90g2Iis3CpgDJjVTpBA3dBog\n",
      "Created folder title: date1, id: 19RMOkTfl2Fd9ohcWb8z40kl8UubqTgKh\n",
      "Created folder title: date2, id: 1YYHsg_gVbVGh7Q5-tZo1E4l3dKWHs6Br\n",
      "Created folder title: m2, id: 1bhBEA2p8XD5FdMIQ0ySRF5zDTD397mTt\n",
      "Created folder title: date3, id: 1DKOHRDR29UyKmoONGHsmWX-9wwNsV-u9\n",
      "Created folder title: date1, id: 1hy51tC7eB0WNpQqk_SfyAv_48dLSBwsK\n",
      "Created folder title: date2, id: 1gxnnOFBOHINtEjyZBmxLFzEJcQDk0Hwt\n",
      "Created folder title: m3, id: 1b46aSDQgc7_S6-4IHGM1Ew4ayoMZAo9r\n",
      "Created folder title: date3, id: 17V951pGq1-8VLASETeu-BrC2UiSDYQLq\n",
      "Created folder title: date1, id: 129IFyRtbvwpqeN-kWpUJZDc3zLZUWYoi\n",
      "Created folder title: date2, id: 1DQ_hisaATdlT-YVSSZaZRQ11OzsQvJ6s\n",
      "Created folder title: sid3, id: 1CdIkOA5WCEXyNWQAR0tanQI_kPgweVOC\n",
      "Created folder title: m1, id: 17jvEzCNDnPkrisNo68QxxxXixwsoRPDZ\n",
      "Created folder title: date3, id: 1Chz9hP0Ac_IlL0dOwdg4F7jjutZ_VA0f\n",
      "Created folder title: date1, id: 1_U0nB8xpmOF-GrRNXQj5yGGHF7snALNS\n",
      "Created folder title: date2, id: 1E7EQm-8uZA0ky21mLQ-GajO9yYcTGL9U\n",
      "Created folder title: m2, id: 1BUSSkOXGlSan4LmEvXqmMHDZmQNztoU9\n",
      "Created folder title: date3, id: 1cyLHRaAQrl2rnq69TCWnkzd010O5zMbC\n",
      "Created folder title: date1, id: 1XIImm8b6XCfltC_MLjHxdTn7MMCo8voF\n",
      "Created folder title: date2, id: 1pbV9o_MZHjqJrPLsDT-K3qmUbNgrV8iV\n",
      "Created folder title: m3, id: 1qmGeWdd0afdR_NhcbTpaME5PuX0rYEJJ\n",
      "Created folder title: date3, id: 1hYj-riHJeLSihgEZAAdUV0XQSEGw8zPD\n",
      "Created folder title: date1, id: 1FLo_O6G9ing21eW65Ei8aEIH3iFW75qQ\n",
      "Created folder title: date2, id: 1E9602At-riwmANiAqi5sZ-BY2NXyWA3u\n"
     ]
    }
   ],
   "source": [
    "#team_drive_id = \">team_drive_id>\"\n",
    "folder_id = \"<folder_id>\"\n",
    "\n",
    "src_dir_path = \"/path/to/ADNI/or/test/folder\"\n",
    "\n",
    "upload_directory(drive, src_dir_path, folder_id)"
   ]
  },
  {
   "cell_type": "code",
   "execution_count": null,
   "metadata": {},
   "outputs": [],
   "source": []
  }
 ],
 "metadata": {
  "kernelspec": {
   "display_name": "Python 3",
   "language": "python",
   "name": "python3"
  },
  "language_info": {
   "codemirror_mode": {
    "name": "ipython",
    "version": 3
   },
   "file_extension": ".py",
   "mimetype": "text/x-python",
   "name": "python",
   "nbconvert_exporter": "python",
   "pygments_lexer": "ipython3",
   "version": "3.6.9"
  }
 },
 "nbformat": 4,
 "nbformat_minor": 4
}
